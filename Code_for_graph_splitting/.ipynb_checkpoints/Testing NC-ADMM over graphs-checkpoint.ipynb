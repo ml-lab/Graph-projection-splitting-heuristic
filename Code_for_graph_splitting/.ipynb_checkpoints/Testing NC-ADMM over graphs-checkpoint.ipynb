{
 "cells": [
  {
   "cell_type": "markdown",
   "metadata": {},
   "source": [
    "As a first numerical example, we consider problem of following form:\n",
    "\n",
    "\\begin{aligned} & \\mathrm{minimize} &  & \\|Dx-d\\|_{2}^{2}\\\\\n",
    " & \\mathrm{subject\\;to} &  & Ax=b\\\\\n",
    " &  &  & 0\\preceq x\\preceq u\\\\\n",
    " &  &  & x\\in\\mathbf{Z}^{n},\n",
    "\\end{aligned}\n",
    "\n",
    "\n",
    "where $x$ is the optimization variable and $A\\in\\mathbf{Z}^{m\\times n},b\\in\\mathbf{Z}^{m},D\\in\\mathbf{Z}^{p\\times n},d\\in\\mathbf{Z}^{p}$\n",
    "are problem data."
   ]
  },
  {
   "cell_type": "markdown",
   "metadata": {},
   "source": [
    "format long\n",
    "m=10;\n",
    "n=15;\n",
    "p=20;\n",
    "l_mat=-1;\n",
    "u_mat=1;\n",
    "l=0;\n",
    "u=100;\n",
    "x_star =round((u-l).*rand(n,1) + l);\n",
    "A=randi([l_mat,u_mat],m,n);\n",
    "D=round((u_mat-l_mat).*rand(p,n) + l_mat);\n",
    "d=D*x_star;\n",
    "b=A*x_star;"
   ]
  },
  {
   "cell_type": "markdown",
   "metadata": {},
   "source": [
    "rank(A)"
   ]
  },
  {
   "cell_type": "markdown",
   "metadata": {},
   "source": [
    "A;"
   ]
  },
  {
   "cell_type": "markdown",
   "metadata": {
    "collapsed": true
   },
   "source": [
    "For integer normal form U_1, U_2, \\hat{U} I am going to use mathematica"
   ]
  },
  {
   "cell_type": "markdown",
   "metadata": {},
   "source": [
    "save('test','A')"
   ]
  },
  {
   "cell_type": "markdown",
   "metadata": {},
   "source": [
    "Now we do the precalculation part in mathematica. \n",
    "\n",
    "```\n",
    "importedA = \n",
    "  Flatten[Import[\n",
    "    \"C:\\\\Users\\\\Shuvomoy Das Gupta\\\\Google \\\n",
    "Drive\\\\GitHub\\\\JuliaCodes-EE364b\\\\JuliaCodes\\\\test.mat\"], 1];\n",
    "\n",
    "A = Map[Round[#] &, importedA];\n",
    "\n",
    "{m, n} = Dimensions[A];\n",
    "\n",
    "IntegerNormalFormCalc[mat_ /; MatrixQ[mat, IntegerQ]] := \n",
    " Transpose /@ HermiteDecomposition[Transpose[mat]]\n",
    "\n",
    "(*Calc U1 and U2 submatrices *)\n",
    "U1Calc[mat_ /; MatrixQ[mat, IntegerQ]] := mat[[All, 1 ;; m]]\n",
    "U2Calc[mat_ /; MatrixQ[mat, IntegerQ]] := mat[[All, m + 1 ;; n]];\n",
    "(*Define C*)\n",
    "CCalc[mat_ /; MatrixQ[mat, IntegerQ]] := \n",
    " ArrayFlatten[{{mat, -IdentityMatrix[n]}}]\n",
    " ```"
   ]
  },
  {
   "cell_type": "markdown",
   "metadata": {},
   "source": [
    "Now bring the data back to matlab:\n",
    "\n",
    "```\n",
    "{U, B} = IntegerNormalFormCalc[A];\n",
    "U1 = U1Calc[U];\n",
    "U2 = U2Calc[U];\n",
    "cC = CCalc[U2];\n",
    "{hatU, hatB} = IntegerNormalFormCalc[cC];\n",
    "hatU1 = hatU1Calc[hatU];\n",
    "hatU2 = hatU2Calc[hatU];\n",
    "Export[\"C:\\\\Users\\\\Shuvomoy Das Gupta\\\\Google \\\n",
    "Drive\\\\GitHub\\\\JuliaCodes-EE364b\\\\JuliaCodes\\\\U.txt\", U, \"CSV\"];\n",
    "Export[\"C:\\\\Users\\\\Shuvomoy Das Gupta\\\\Google \\\n",
    "Drive\\\\GitHub\\\\JuliaCodes-EE364b\\\\JuliaCodes\\\\B.txt\", B, \"CSV\"];\n",
    "Export[\"C:\\\\Users\\\\Shuvomoy Das Gupta\\\\Google \\\n",
    "Drive\\\\GitHub\\\\JuliaCodes-EE364b\\\\JuliaCodes\\\\U1.txt\", U1, \"CSV\"];\n",
    "Export[\"C:\\\\Users\\\\Shuvomoy Das Gupta\\\\Google \\\n",
    "Drive\\\\GitHub\\\\JuliaCodes-EE364b\\\\JuliaCodes\\\\U2.txt\", U2, \"CSV\"];\n",
    "Export[\"C:\\\\Users\\\\Shuvomoy Das Gupta\\\\Google \\\n",
    "Drive\\\\GitHub\\\\JuliaCodes-EE364b\\\\JuliaCodes\\\\cC.txt\", cC, \"CSV\"];\n",
    "Export[\"C:\\\\Users\\\\Shuvomoy Das Gupta\\\\Google \\\n",
    "Drive\\\\GitHub\\\\JuliaCodes-EE364b\\\\JuliaCodes\\\\hatU.txt\", hatU, \"CSV\"];\n",
    "Export[\"C:\\\\Users\\\\Shuvomoy Das Gupta\\\\Google \\\n",
    "Drive\\\\GitHub\\\\JuliaCodes-EE364b\\\\JuliaCodes\\\\hatU1.txt\", hatU1, \n",
    "  \"CSV\"];\n",
    "Export[\"C:\\\\Users\\\\Shuvomoy Das Gupta\\\\Google \\\n",
    "Drive\\\\GitHub\\\\JuliaCodes-EE364b\\\\JuliaCodes\\\\hatU2.txt\", hatU2, \n",
    "  \"CSV\"];\n",
    "```"
   ]
  },
  {
   "cell_type": "markdown",
   "metadata": {},
   "source": [
    "Now let us load the calculated data back to matlab:"
   ]
  },
  {
   "cell_type": "code",
   "execution_count": 1,
   "metadata": {},
   "outputs": [
    {
     "name": "stdout",
     "output_type": "stream",
     "text": [
      "\n"
     ]
    }
   ],
   "source": [
    "A=csvread('C:\\Users\\Shuvomoy Das Gupta\\Google Drive\\GitHub\\Graph_splitting_form_over_integers\\Numerical_example\\A.txt');\n",
    "x_star=csvread('C:\\Users\\Shuvomoy Das Gupta\\Google Drive\\GitHub\\Graph_splitting_form_over_integers\\Numerical_example\\x_star.txt');\n",
    "b=csvread('C:\\Users\\Shuvomoy Das Gupta\\Google Drive\\GitHub\\Graph_splitting_form_over_integers\\Numerical_example\\bvect.txt');\n",
    "D=csvread('C:\\Users\\Shuvomoy Das Gupta\\Google Drive\\GitHub\\Graph_splitting_form_over_integers\\Numerical_example\\matD.txt');\n",
    "d=csvread('dvect.txt');\n",
    "bounds=csvread('bounds.txt');\n",
    "U=csvread('U.txt');\n",
    "B=csvread('B.txt');\n",
    "U1=csvread('U1.txt');\n",
    "U2=csvread('U2.txt');\n",
    "C=csvread('cC.txt');\n",
    "hatU=csvread('hatU.txt');\n",
    "hatU1=csvread('hatU1.txt');\n",
    "hatU2=csvread('hatU2.txt');\n",
    "hatB=csvread('hatB.txt');"
   ]
  },
  {
   "cell_type": "code",
   "execution_count": 2,
   "metadata": {},
   "outputs": [
    {
     "name": "stdout",
     "output_type": "stream",
     "text": [
      "\n",
      "ans =\n",
      "\n",
      "     7     1\n",
      "\n",
      "\n"
     ]
    }
   ],
   "source": [
    "size(b)"
   ]
  },
  {
   "cell_type": "code",
   "execution_count": 3,
   "metadata": {},
   "outputs": [
    {
     "name": "stdout",
     "output_type": "stream",
     "text": [
      "\n"
     ]
    }
   ],
   "source": [
    "l=bounds(1);\n",
    "u=bounds(2);\n",
    "[m,n]=size(A);"
   ]
  },
  {
   "cell_type": "code",
   "execution_count": 4,
   "metadata": {},
   "outputs": [
    {
     "name": "stdout",
     "output_type": "stream",
     "text": [
      "\n"
     ]
    }
   ],
   "source": [
    "% One feasible solution\n",
    "mid_vect=round((0+u)/2)*ones(n,1);"
   ]
  },
  {
   "cell_type": "code",
   "execution_count": 5,
   "metadata": {},
   "outputs": [
    {
     "name": "stdout",
     "output_type": "stream",
     "text": [
      "\n"
     ]
    }
   ],
   "source": [
    "lhs=(mid_vect-(U1*inv(B)*b));\n"
   ]
  },
  {
   "cell_type": "code",
   "execution_count": 6,
   "metadata": {},
   "outputs": [
    {
     "name": "stdout",
     "output_type": "stream",
     "text": [
      "feasibility of x0 check = 0\n",
      "\n"
     ]
    }
   ],
   "source": [
    "%z_init = round(pinv(U2)*(mid_vect-(U1*inv(B)*b))) %least squares solutin does not work very well\n",
    "z_init = sils(U2,lhs,1);\n",
    "x0=U1*inv(B)*b+U2*z_init;\n",
    "y_init=U2*z_init;\n",
    "disp(['feasibility of x0 check = ', num2str(norm(A*x0-b))]);"
   ]
  },
  {
   "cell_type": "code",
   "execution_count": 7,
   "metadata": {},
   "outputs": [
    {
     "name": "stdout",
     "output_type": "stream",
     "text": [
      "\n"
     ]
    }
   ],
   "source": [
    "% Data for the projection problem:\n",
    "D_tilde=D*U2;\n",
    "d_tilde=D*x0-d;"
   ]
  },
  {
   "cell_type": "code",
   "execution_count": 8,
   "metadata": {},
   "outputs": [
    {
     "name": "stdout",
     "output_type": "stream",
     "text": [
      "\n",
      "x0 =\n",
      "\n",
      "    10\n",
      "    63\n",
      "    86\n",
      "    52\n",
      "    85\n",
      "    91\n",
      "    20\n",
      "    47\n",
      "    54\n",
      "    73\n",
      "\n",
      "\n"
     ]
    }
   ],
   "source": [
    "% Test if the initialization is alright\n",
    "x0"
   ]
  },
  {
   "cell_type": "code",
   "execution_count": 20,
   "metadata": {},
   "outputs": [
    {
     "name": "stdout",
     "output_type": "stream",
     "text": [
      "\n",
      "ans =\n",
      "\n",
      "  333.4576\n",
      "\n",
      "\n"
     ]
    }
   ],
   "source": [
    "norm(D*x0-d)"
   ]
  },
  {
   "cell_type": "code",
   "execution_count": 21,
   "metadata": {},
   "outputs": [
    {
     "name": "stdout",
     "output_type": "stream",
     "text": [
      "\n",
      "ans =\n",
      "\n",
      "     3\n",
      "\n",
      "\n"
     ]
    }
   ],
   "source": [
    "% we start with this initial solution\n",
    "z_k=z_init;\n",
    "y_k=y_init;\n",
    "z_tilde_k=z_init;\n",
    "y_tilde_k=y_init;\n",
    "length(z_tilde_k)"
   ]
  },
  {
   "cell_type": "code",
   "execution_count": 22,
   "metadata": {},
   "outputs": [
    {
     "name": "stdout",
     "output_type": "stream",
     "text": [
      "\n",
      "iter_number =\n",
      "\n",
      "   100\n",
      "\n",
      "Optimality reached at iteration number = 12\n",
      "\n"
     ]
    }
   ],
   "source": [
    "flag=0;\n",
    "tol=0.001;\n",
    "iter_number=100\n",
    "z_array=zeros(length(z_tilde_k),iter_number);\n",
    "for i=1:iter_number\n",
    "z_k_half=prox_quad_test(D_tilde,d_tilde,z_k-z_tilde_k);\n",
    "y_k_half=proj_mx0_umx0(y_k-y_tilde_k,x0,u);\n",
    "\n",
    "w_hat=[z_k_half+z_tilde_k; y_k_half+y_tilde_k];\n",
    "w_hat_k=proj_nonlinear(w_hat,hatU2);\n",
    "z_k_pls_1=w_hat_k(1:n-m);\n",
    "y_k_pls_1=w_hat_k(n-m+1:2*n-m);\n",
    "\n",
    "z_array(:,i)=z_k_pls_1;\n",
    "\n",
    "x_test=x0+(U2*z_k_pls_1);\n",
    "\n",
    "if(norm(D*x_test-d) < tol && flag==0)\n",
    "disp(['Optimality reached at iteration number = ', num2str(i)]);\n",
    "flag=1;\n",
    "%break;\n",
    "end\n",
    "\n",
    "z_tilde_k_pls_1=z_tilde_k+z_k_half-z_k_pls_1;\n",
    "y_tilde_k_pls_1=y_tilde_k+y_k_half-y_k_pls_1;\n",
    "\n",
    "\n",
    "% k := k+1\n",
    "\n",
    "z_k=z_k_pls_1;\n",
    "y_k=y_k_pls_1;\n",
    "z_tilde_k=z_tilde_k_pls_1;\n",
    "y_tilde_k=y_tilde_k_pls_1;\n",
    "\n",
    "%x=x0+U2*z_k\n",
    "%obj_new=norm(D*x-d);\n",
    "%obj=[obj obj_new];\n",
    "%norm_x=[norm_x norm(x)];\n",
    "end"
   ]
  },
  {
   "cell_type": "code",
   "execution_count": 32,
   "metadata": {},
   "outputs": [
    {
     "name": "stdout",
     "output_type": "stream",
     "text": [
      "\n"
     ]
    }
   ],
   "source": [
    "x_array=zeros(length(x0),iter_number);\n",
    "obj=zeros(iter_number);\n",
    "norm_gap=zeros(iter_number);\n",
    "for i=1:iter_number\n",
    "   x_array(:,i)=x0+U2*z_array(:,i);\n",
    "   obj(i)=norm(D*x_array(:,i)-d);\n",
    "   norm_gap(i)=norm(x_star-x_array(:,i));\n",
    "end"
   ]
  },
  {
   "cell_type": "code",
   "execution_count": 33,
   "metadata": {},
   "outputs": [
    {
     "name": "stdout",
     "output_type": "stream",
     "text": [
      "\n",
      "ans =\n",
      "\n",
      "   1.0976e+05\n",
      "\n",
      "\n"
     ]
    }
   ],
   "source": [
    "obj(1)"
   ]
  },
  {
   "cell_type": "code",
   "execution_count": 37,
   "metadata": {},
   "outputs": [
    {
     "name": "stdout",
     "output_type": "stream",
     "text": [
      "\n",
      "ans =\n",
      "\n",
      "     0\n",
      "\n",
      "\n"
     ]
    },
    {
     "data": {
      "image/png": "[encoded data removed]",
      "text/plain": [
       "<IPython.core.display.Image object>"
      ]
     },
     "metadata": {},
     "output_type": "display_data"
    }
   ],
   "source": [
    "figure(1)\n",
    "x_axis=1:iter_number;\n",
    "y_axis=obj(x_axis);\n",
    "xlabel('iteration number')\n",
    "ylabel('gap in objective value')\n",
    "plot(x_axis,y_axis,'.')\n",
    "ylim([-10 inf])\n",
    "min(y_axis)"
   ]
  },
  {
   "cell_type": "code",
   "execution_count": 35,
   "metadata": {},
   "outputs": [
    {
     "name": "stdout",
     "output_type": "stream",
     "text": [
      "\n",
      "ans =\n",
      "\n",
      "     0\n",
      "\n",
      "\n"
     ]
    },
    {
     "data": {
      "image/png": "[encoded data removed]",
      "text/plain": [
       "<IPython.core.display.Image object>"
      ]
     },
     "metadata": {},
     "output_type": "display_data"
    }
   ],
   "source": [
    "x_axis=1:iter_number;\n",
    "y_axis=norm_gap(x_axis);\n",
    "plot(x_axis,y_axis);\n",
    "ylim([-10 inf])\n",
    "min(y_axis)"
   ]
  },
  {
   "cell_type": "markdown",
   "metadata": {
    "collapsed": true
   },
   "source": [
    "Now we solve the integer least squares problem "
   ]
  },
  {
   "cell_type": "code",
   "execution_count": null,
   "metadata": {
    "collapsed": true
   },
   "outputs": [],
   "source": [
    "w_new =hatU2*sils(hatU2,w,1)"
   ]
  },
  {
   "cell_type": "code",
   "execution_count": null,
   "metadata": {
    "collapsed": true
   },
   "outputs": [],
   "source": [
    "y_k_plus_1=w_new(1:n);\n",
    "z_k_plus_1=w_new(n+1:2*n-m);"
   ]
  },
  {
   "cell_type": "code",
   "execution_count": null,
   "metadata": {
    "collapsed": true
   },
   "outputs": [],
   "source": [
    "z_til_k_plus1=z_til+z_k_plus_half-z_k_plus_1;"
   ]
  },
  {
   "cell_type": "code",
   "execution_count": null,
   "metadata": {
    "collapsed": true
   },
   "outputs": [],
   "source": [
    "y_til_k_plus_1=y_til+y_k_plus_half-y_k_plus_1;"
   ]
  },
  {
   "cell_type": "code",
   "execution_count": null,
   "metadata": {
    "collapsed": true
   },
   "outputs": [],
   "source": [
    "z_til=z_til_k_plus1;\n",
    "y_til=y_til_k_plus_1;\n",
    "z=z_k_plus_1;\n",
    "y=y_k_plus_1;"
   ]
  },
  {
   "cell_type": "code",
   "execution_count": null,
   "metadata": {
    "collapsed": true
   },
   "outputs": [],
   "source": [
    "for i=1:100\n",
    "z_k_plus_half=prox_h(z-z_til,U2,x0,x_star);\n",
    "y_k_plus_half=proj_pos_orthant(y-y_til);\n",
    "w=[y_k_plus_half+y_til;\n",
    "z_k_plus_half+z_til];\n",
    "w_new =hatU2*sils(hatU2,w,1);\n",
    "y_k_plus_1=w_new(1:n);\n",
    "z_k_plus_1=w_new(n+1:2*n-m);\n",
    "z_til_k_plus1=z_til+z_k_plus_half-z_k_plus_1;\n",
    "y_til_k_plus_1=y_til+y_k_plus_half-y_k_plus_1;\n",
    "z_til=z_til_k_plus1;\n",
    "y_til=y_til_k_plus_1;\n",
    "z=z_k_plus_1;\n",
    "y=y_k_plus_1;\n",
    "end\n"
   ]
  },
  {
   "cell_type": "code",
   "execution_count": null,
   "metadata": {
    "collapsed": true
   },
   "outputs": [],
   "source": [
    "y-U2*z"
   ]
  },
  {
   "cell_type": "code",
   "execution_count": null,
   "metadata": {
    "collapsed": true
   },
   "outputs": [],
   "source": [
    "x0"
   ]
  },
  {
   "cell_type": "code",
   "execution_count": null,
   "metadata": {
    "collapsed": true
   },
   "outputs": [],
   "source": []
  }
 ],
 "metadata": {
  "kernelspec": {
   "display_name": "Matlab",
   "language": "matlab",
   "name": "matlab"
  },
  "language_info": {
   "codemirror_mode": "octave",
   "file_extension": ".m",
   "help_links": [
    {
     "text": "MetaKernel Magics",
     "url": "https://github.com/calysto/metakernel/blob/master/metakernel/magics/README.md"
    }
   ],
   "mimetype": "text/x-matlab",
   "name": "matlab",
   "version": "0.14.3"
  }
 },
 "nbformat": 4,
 "nbformat_minor": 2
}
